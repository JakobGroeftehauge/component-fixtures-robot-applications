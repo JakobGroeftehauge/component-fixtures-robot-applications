{
 "cells": [
  {
   "cell_type": "code",
   "execution_count": 39,
   "id": "5c12eb24-97f8-4afc-86cf-fd9f1aee344f",
   "metadata": {},
   "outputs": [
    {
     "data": {
      "application/vnd.jupyter.widget-view+json": {
       "model_id": "de474ca9c744480b957077f457fd8876",
       "version_major": 2,
       "version_minor": 0
      },
      "text/plain": [
       "HBox(children=(VBox(children=(HBox(children=(Checkbox(value=False, description='Axes', indent=False, _dom_clas…"
      ]
     },
     "metadata": {},
     "output_type": "display_data"
    },
    {
     "data": {
      "text/plain": [
       "<jupyter_cadquery.cad_display.CadqueryDisplay at 0x7f21fd833a90>"
      ]
     },
     "execution_count": 39,
     "metadata": {},
     "output_type": "execute_result"
    }
   ],
   "source": [
    "import cadquery as cq\n",
    "from jupyter_cadquery.cadquery import show\n",
    "\n",
    "obj = cq.importers.importStep('data/HYDAC-10000301803-SWB-000_01.STEP')\n",
    "obj_bbox = obj.val().BoundingBox()\n",
    "\n",
    "x_trans = -(obj_bbox.xmin + obj_bbox.xmax)/2\n",
    "y_trans = -(obj_bbox.ymin + obj_bbox.ymax)/2\n",
    "z_trans = -(obj_bbox.zmin + obj_bbox.zmax)/2 + obj_bbox.zlen * 0.3\n",
    "\n",
    "obj = obj.translate((x_trans, y_trans, z_trans))\n",
    "\n",
    "length = obj_bbox.xlen +4 # Length of the block\n",
    "height = obj_bbox.ylen +4  # Height of the block\n",
    "thickness = obj_bbox.zlen *0.5 # Thickness of the block\n",
    "\n",
    "box2 = cq.Workplane(\"XY\").box(length, height, thickness, combine=False).cut(obj)\n",
    "\n",
    "show(box2)"
   ]
  },
  {
   "cell_type": "code",
   "execution_count": null,
   "id": "7dc619a9-9f48-4869-9bb1-9915c06d81eb",
   "metadata": {},
   "outputs": [],
   "source": []
  }
 ],
 "metadata": {
  "kernelspec": {
   "display_name": "Python 3 (ipykernel)",
   "language": "python",
   "name": "python3"
  },
  "language_info": {
   "codemirror_mode": {
    "name": "ipython",
    "version": 3
   },
   "file_extension": ".py",
   "mimetype": "text/x-python",
   "name": "python",
   "nbconvert_exporter": "python",
   "pygments_lexer": "ipython3",
   "version": "3.8.8"
  }
 },
 "nbformat": 4,
 "nbformat_minor": 5
}
