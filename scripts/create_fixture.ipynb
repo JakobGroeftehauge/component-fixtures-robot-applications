{
 "cells": [
  {
   "cell_type": "code",
   "execution_count": 74,
   "id": "353a306b-4506-4eb9-8c98-d969241e722c",
   "metadata": {},
   "outputs": [
    {
     "data": {
      "application/vnd.jupyter.widget-view+json": {
       "model_id": "498e2b98dd8840f08f681087e28d865a",
       "version_major": 2,
       "version_minor": 0
      },
      "text/plain": [
       "HBox(children=(VBox(children=(HBox(children=(Checkbox(value=False, description='Axes', indent=False, _dom_clas…"
      ]
     },
     "metadata": {},
     "output_type": "display_data"
    },
    {
     "data": {
      "application/vnd.jupyter.widget-view+json": {
       "model_id": "606f3e2d9daf4c4f90990d5f2c0d8c5e",
       "version_major": 2,
       "version_minor": 0
      },
      "text/plain": [
       "HBox(children=(VBox(children=(HBox(children=(Checkbox(value=False, description='Axes', indent=False, _dom_clas…"
      ]
     },
     "metadata": {},
     "output_type": "display_data"
    },
    {
     "data": {
      "text/plain": [
       "<jupyter_cadquery.cad_display.CadqueryDisplay at 0x7f4abbb4d850>"
      ]
     },
     "execution_count": 74,
     "metadata": {},
     "output_type": "execute_result"
    }
   ],
   "source": [
    "import cadquery as cq\n",
    "from jupyter_cadquery.cadquery import show\n",
    "\n",
    "thickness = 4.0\n",
    "height = 40\n",
    "total_length = 50\n",
    "total_width = 50\n",
    "fillet_radius = 3\n",
    "mold_depth = 20\n",
    "circle_dia = 15.9\n",
    "pin_length = 15\n",
    "\n",
    "# Rotate CAD model \n",
    "# Axis of rotation \n",
    "rot_axis = (1,0,0)\n",
    "rot_angle = 90\n",
    "\n",
    "obj = cq.importers.importStep('data/HYDAC-10000301803-SWB-000_01.STEP')\n",
    "obj = obj.rotateAboutCenter(rot_axis, rot_angle)\n",
    "obj_bbox = obj.val().BoundingBox()\n",
    "\n",
    "x_trans = -(obj_bbox.xmin + obj_bbox.xmax)/2\n",
    "y_trans = -(obj_bbox.ymin + obj_bbox.ymax)/2\n",
    "z_trans = -(obj_bbox.zmin + obj_bbox.zmax)/2 + obj_bbox.zlen * 0.5 + height/2.0 - mold_depth\n",
    "\n",
    "obj = obj.translate((x_trans, y_trans, z_trans))\n",
    "obj_bbox = obj.val().BoundingBox()\n",
    "\n",
    "\n",
    "# make the base\n",
    "s = cq.Workplane(\"XY\").box(total_length, total_width, height).edges(\"|Z\").fillet(fillet_radius)#.cut(obj)\n",
    "s = s.edges(\">Z\").fillet(fillet_radius)\n",
    "s = s.cut(obj)\n",
    "\n",
    "s = s.faces(\"<Z\").workplane().circle(circle_dia/2.0).extrude(pin_length)\n",
    "\n",
    "\n",
    "show(s)\n",
    "show(obj)"
   ]
  },
  {
   "cell_type": "code",
   "execution_count": null,
   "id": "86af09df-d78d-4ef3-8d7e-a983da2de975",
   "metadata": {},
   "outputs": [],
   "source": []
  }
 ],
 "metadata": {
  "kernelspec": {
   "display_name": "Python 3 (ipykernel)",
   "language": "python",
   "name": "python3"
  },
  "language_info": {
   "codemirror_mode": {
    "name": "ipython",
    "version": 3
   },
   "file_extension": ".py",
   "mimetype": "text/x-python",
   "name": "python",
   "nbconvert_exporter": "python",
   "pygments_lexer": "ipython3",
   "version": "3.8.8"
  }
 },
 "nbformat": 4,
 "nbformat_minor": 5
}
